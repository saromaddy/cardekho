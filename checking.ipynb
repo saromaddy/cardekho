{
 "cells": [
  {
   "cell_type": "code",
   "execution_count": 1,
   "metadata": {},
   "outputs": [
    {
     "name": "stdout",
     "output_type": "stream",
     "text": [
      "   it      ft         bt        km transmission  ownerNo      owner      oem  \\\n",
      "0   0  Petrol  Hatchback  1,20,000       Manual        3  3rd Owner   Maruti   \n",
      "1   0  Petrol        SUV    32,706       Manual        2  2nd Owner     Ford   \n",
      "2   0  Petrol  Hatchback    11,949       Manual        1  1st Owner     Tata   \n",
      "3   0  Petrol      Sedan    17,794       Manual        1  1st Owner  Hyundai   \n",
      "4   0  Diesel        SUV    60,000       Manual        1  1st Owner   Maruti   \n",
      "\n",
      "                model  modelYear  centralVariantId               variantName  \\\n",
      "0      Maruti Celerio       2015              3979                       VXI   \n",
      "1       Ford Ecosport       2018              6087  1.5 Petrol Titanium BSIV   \n",
      "2          Tata Tiago       2018              2983           1.2 Revotron XZ   \n",
      "3       Hyundai Xcent       2014              1867        1.2 Kappa S Option   \n",
      "4  Maruti SX4 S Cross       2015              4277             DDiS 200 Zeta   \n",
      "\n",
      "         price priceActual priceSaving priceFixedText  \\\n",
      "0     ₹ 4 Lakh                                   None   \n",
      "1  ₹ 8.11 Lakh                                   None   \n",
      "2  ₹ 5.85 Lakh                                   None   \n",
      "3  ₹ 4.62 Lakh                                   None   \n",
      "4  ₹ 7.90 Lakh                                   None   \n",
      "\n",
      "                                              imgUrl        heading  \\\n",
      "0  https://stimg.cardekho.com/used-cars/common/ic...  Trending Car!   \n",
      "1  https://stimg.cardekho.com/used-cars/common/ic...  Trending Car!   \n",
      "2  https://stimg.cardekho.com/used-cars/common/ic...  Trending Car!   \n",
      "3  https://stimg.cardekho.com/used-cars/common/ic...  Trending Car!   \n",
      "4  https://stimg.cardekho.com/used-cars/common/ic...  Trending Car!   \n",
      "\n",
      "                                  desc  \n",
      "0  High chances of sale in next 6 days  \n",
      "1  High chances of sale in next 6 days  \n",
      "2  High chances of sale in next 6 days  \n",
      "3  High chances of sale in next 6 days  \n",
      "4  High chances of sale in next 6 days  \n"
     ]
    }
   ],
   "source": [
    "import pandas as pd\n",
    "\n",
    "# List of dictionaries, each representing a row\n",
    "data_list = [\n",
    "    {'it': 0, 'ft': 'Petrol', 'bt': 'Hatchback', 'km': '1,20,000', 'transmission': 'Manual', 'ownerNo': 3, 'owner': '3rd Owner', 'oem': 'Maruti', 'model': 'Maruti Celerio', 'modelYear': 2015, 'centralVariantId': 3979, 'variantName': 'VXI', 'price': '₹ 4 Lakh', 'priceActual': '', 'priceSaving': '', 'priceFixedText': None, 'trendingText': {'imgUrl': 'https://stimg.cardekho.com/used-cars/common/icons/trending.svg', 'heading': 'Trending Car!', 'desc': 'High chances of sale in next 6 days'}},\n",
    "    {'it': 0, 'ft': 'Petrol', 'bt': 'SUV', 'km': '32,706', 'transmission': 'Manual', 'ownerNo': 2, 'owner': '2nd Owner', 'oem': 'Ford', 'model': 'Ford Ecosport', 'modelYear': 2018, 'centralVariantId': 6087, 'variantName': '1.5 Petrol Titanium BSIV', 'price': '₹ 8.11 Lakh', 'priceActual': '', 'priceSaving': '', 'priceFixedText': None, 'trendingText': {'imgUrl': 'https://stimg.cardekho.com/used-cars/common/icons/trending.svg', 'heading': 'Trending Car!', 'desc': 'High chances of sale in next 6 days'}},\n",
    "    {'it': 0, 'ft': 'Petrol', 'bt': 'Hatchback', 'km': '11,949', 'transmission': 'Manual', 'ownerNo': 1, 'owner': '1st Owner', 'oem': 'Tata', 'model': 'Tata Tiago', 'modelYear': 2018, 'centralVariantId': 2983, 'variantName': '1.2 Revotron XZ', 'price': '₹ 5.85 Lakh', 'priceActual': '', 'priceSaving': '', 'priceFixedText': None, 'trendingText': {'imgUrl': 'https://stimg.cardekho.com/used-cars/common/icons/trending.svg', 'heading': 'Trending Car!', 'desc': 'High chances of sale in next 6 days'}},\n",
    "    {'it': 0, 'ft': 'Petrol', 'bt': 'Sedan', 'km': '17,794', 'transmission': 'Manual', 'ownerNo': 1, 'owner': '1st Owner', 'oem': 'Hyundai', 'model': 'Hyundai Xcent', 'modelYear': 2014, 'centralVariantId': 1867, 'variantName': '1.2 Kappa S Option', 'price': '₹ 4.62 Lakh', 'priceActual': '', 'priceSaving': '', 'priceFixedText': None, 'trendingText': {'imgUrl': 'https://stimg.cardekho.com/used-cars/common/icons/trending.svg', 'heading': 'Trending Car!', 'desc': 'High chances of sale in next 6 days'}},\n",
    "    {'it': 0, 'ft': 'Diesel', 'bt': 'SUV', 'km': '60,000', 'transmission': 'Manual', 'ownerNo': 1, 'owner': '1st Owner', 'oem': 'Maruti', 'model': 'Maruti SX4 S Cross', 'modelYear': 2015, 'centralVariantId': 4277, 'variantName': 'DDiS 200 Zeta', 'price': '₹ 7.90 Lakh', 'priceActual': '', 'priceSaving': '', 'priceFixedText': None, 'trendingText': {'imgUrl': 'https://stimg.cardekho.com/used-cars/common/icons/trending.svg', 'heading': 'Trending Car!', 'desc': 'High chances of sale in next 6 days'}}\n",
    "]\n",
    "\n",
    "# Convert the list of dictionaries to a DataFrame\n",
    "df = pd.DataFrame(data_list)\n",
    "\n",
    "# Normalize the 'trendingText' column\n",
    "trending_text_df = pd.json_normalize(df['trendingText'])\n",
    "\n",
    "# Concatenate the normalized 'trendingText' with the original DataFrame\n",
    "df = pd.concat([df.drop(columns=['trendingText']), trending_text_df], axis=1)\n",
    "\n",
    "print(df)\n"
   ]
  }
 ],
 "metadata": {
  "kernelspec": {
   "display_name": ".venv",
   "language": "python",
   "name": "python3"
  },
  "language_info": {
   "codemirror_mode": {
    "name": "ipython",
    "version": 3
   },
   "file_extension": ".py",
   "mimetype": "text/x-python",
   "name": "python",
   "nbconvert_exporter": "python",
   "pygments_lexer": "ipython3",
   "version": "3.12.0"
  }
 },
 "nbformat": 4,
 "nbformat_minor": 2
}
